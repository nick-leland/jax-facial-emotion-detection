{
 "cells": [
  {
   "cell_type": "markdown",
   "id": "5dd5aec1-7f79-4d5d-ab2f-947c6b2ff5cd",
   "metadata": {},
   "source": [
    "# Facial Emotion Detection\n",
    "_MIT Applied Data Science program_\n",
    "\n"
   ]
  },
  {
   "cell_type": "markdown",
   "id": "1fd8a0b8-0342-4071-a95b-d50667149906",
   "metadata": {},
   "source": [
    "**The context:** Why is this problem important to solve?\n",
    "\n",
    "**The objectives:** The intended goal of this project is to train a machine learning model to analyze and detect facial emotions.\n",
    "\n",
    "**The key questions:** What are the key questions that need to be answered?\n",
    "\n",
    "**The problem formulation:** What are we trying to solve using data science?\n"
   ]
  },
  {
   "cell_type": "markdown",
   "id": "f6c3a85c-baac-42bd-9040-1f340ea00a7a",
   "metadata": {},
   "source": [
    "## Import Libraries"
   ]
  },
  {
   "cell_type": "code",
   "execution_count": 20,
   "id": "211d64cc-9d1f-4beb-bc41-96be9bb9722e",
   "metadata": {},
   "outputs": [],
   "source": [
    "import os\n",
    "from PIL import Image\n",
    "import matplotlib.pyplot as plt"
   ]
  },
  {
   "cell_type": "code",
   "execution_count": 21,
   "id": "fa236f87-e89b-480a-be31-78fc09663f61",
   "metadata": {},
   "outputs": [
    {
     "name": "stdout",
     "output_type": "stream",
     "text": [
      "0.4.31\n"
     ]
    }
   ],
   "source": [
    "import jax\n",
    "print(jax.__version__)"
   ]
  },
  {
   "cell_type": "markdown",
   "id": "ab9044b6-8580-4e3a-b1db-b9a57f7ab3c9",
   "metadata": {},
   "source": [
    "# Analyze the Dataset\n",
    "\n",
    "The goal of this section is to understand, analyze and evaluate the dataset that we have received.  This includes the following:\n",
    "- Evaluating the Train/Test/Validate distribution\n",
    "- Understanding file types and image formats\n",
    "- Transforming images to tensors that we will be able to utilize within Jax\n",
    "- Condensing the files to a proper format to utilize within a Jax neural network"
   ]
  },
  {
   "cell_type": "code",
   "execution_count": 22,
   "id": "4a93aaec-9701-47ff-848b-01dabd582ee1",
   "metadata": {},
   "outputs": [
    {
     "data": {
      "text/plain": [
       "['test', 'train', 'validation']"
      ]
     },
     "execution_count": 22,
     "metadata": {},
     "output_type": "execute_result"
    }
   ],
   "source": [
    "# Assuming the dataset is already unzipped\n",
    "path = os.path.relpath(\"Facial_emotion_images\")\n",
    "files = os.listdir(path)\n",
    "\n",
    "# This should contain our Train/Test/Split\n",
    "files"
   ]
  },
  {
   "cell_type": "code",
   "execution_count": 23,
   "id": "b6239ffa-cd53-498b-b690-ef0430c9511c",
   "metadata": {},
   "outputs": [
    {
     "data": {
      "text/plain": [
       "['happy', 'sad', 'surprise', 'neutral']"
      ]
     },
     "execution_count": 23,
     "metadata": {},
     "output_type": "execute_result"
    }
   ],
   "source": [
    "# Now we will take a look at the contents in one of these folders.\n",
    "emotions = os.listdir(path+\"/test\")\n",
    "emotions"
   ]
  },
  {
   "cell_type": "code",
   "execution_count": 24,
   "id": "86876be5-35ac-411b-8c4a-7ba9a803ab17",
   "metadata": {},
   "outputs": [
    {
     "data": {
      "text/plain": [
       "32"
      ]
     },
     "execution_count": 24,
     "metadata": {},
     "output_type": "execute_result"
    }
   ],
   "source": [
    "# Generates a list file for the files within the folder\n",
    "sample_files = os.listdir(path + \"/test/\" + emotions[0])\n",
    "len(sample_files)"
   ]
  },
  {
   "cell_type": "code",
   "execution_count": 25,
   "id": "83a28e00-f87b-48fd-b8e1-0615a474431d",
   "metadata": {},
   "outputs": [
    {
     "data": {
      "text/plain": [
       "'Facial_emotion_images/test/happy'"
      ]
     },
     "execution_count": 25,
     "metadata": {},
     "output_type": "execute_result"
    }
   ],
   "source": [
    "# Generates the path to above file locations\n",
    "current_path = (path + \"/test/\" + emotions[0])\n",
    "current_path"
   ]
  },
  {
   "cell_type": "code",
   "execution_count": 26,
   "id": "86d90971-0d2e-4c0e-86ab-68a080e91348",
   "metadata": {},
   "outputs": [
    {
     "data": {
      "text/plain": [
       "(48, 48)"
      ]
     },
     "execution_count": 26,
     "metadata": {},
     "output_type": "execute_result"
    }
   ],
   "source": [
    "x = jnp.asarray(Image.open(current_path + \"/\" + sample_files[0]))\n",
    "x.shape"
   ]
  },
  {
   "cell_type": "code",
   "execution_count": 27,
   "id": "0daee552-5f06-4848-ba6e-2fa124aef527",
   "metadata": {},
   "outputs": [
    {
     "data": {
      "text/plain": [
       "('Facial_emotion_images', ['test', 'train', 'validation'])"
      ]
     },
     "execution_count": 27,
     "metadata": {},
     "output_type": "execute_result"
    }
   ],
   "source": [
    "path, files"
   ]
  },
  {
   "cell_type": "code",
   "execution_count": 28,
   "id": "176b2f92-128d-4724-bf91-77e3faf95edc",
   "metadata": {},
   "outputs": [],
   "source": [
    "# Initialize the empty lists we will sorth these files within\n",
    "data, final = {}, {}\n",
    "\n",
    "# First we will go through each datatype (test/train/validation)\n",
    "for datatype in files:\n",
    "    \n",
    "    # We will generate these layer files to cumulatively update the directory path\n",
    "    layer2 = path + \"/\" + datatype\n",
    "    \n",
    "    # Now we cycle through each emotion (Already defined as a list previously)\n",
    "    for emotion in emotions:\n",
    "        layer3 = layer2 + \"/\" + emotion\n",
    "\n",
    "        # Update our initial data dictionary to add the empty list we will fill with arrays\n",
    "        data.update({f\"{datatype}_{emotion}\":[]})\n",
    "\n",
    "        # We first list all the files in our current rolling directory path\n",
    "        sample_files = os.listdir(layer3)\n",
    "\n",
    "        # Then we iterate through that target list\n",
    "        for images in sample_files:\n",
    "            data[f\"{datatype}_{emotion}\"].append(jnp.asarray(Image.open(layer3 + \"/\" + images)))\n",
    "        final.update({f\"{datatype}_{emotion}\" : jnp.stack(data[f\"{datatype}_{emotion}\"])})         "
   ]
  },
  {
   "cell_type": "code",
   "execution_count": 29,
   "id": "ec135d17-8919-4851-85be-a1c1915c46c7",
   "metadata": {},
   "outputs": [
    {
     "data": {
      "text/plain": [
       "['test_happy',\n",
       " 'test_sad',\n",
       " 'test_surprise',\n",
       " 'test_neutral',\n",
       " 'train_happy',\n",
       " 'train_sad',\n",
       " 'train_surprise',\n",
       " 'train_neutral',\n",
       " 'validation_happy',\n",
       " 'validation_sad',\n",
       " 'validation_surprise',\n",
       " 'validation_neutral']"
      ]
     },
     "execution_count": 29,
     "metadata": {},
     "output_type": "execute_result"
    }
   ],
   "source": [
    "# Let's print out the different files we have here\n",
    "[x for x in final.keys()]"
   ]
  },
  {
   "cell_type": "code",
   "execution_count": 223,
   "id": "9b524e41-0216-45f9-b02e-54831a74a443",
   "metadata": {},
   "outputs": [
    {
     "name": "stdout",
     "output_type": "stream",
     "text": [
      "torch.Size([3976, 48, 48])\n",
      "<class 'torch.Tensor'>\n"
     ]
    }
   ],
   "source": [
    "# Let's pull the data out of our dictionary and convert to numpy arrays\n",
    "\n",
    "test_happy = torch.from_numpy(final[\"test_happy\"])\n",
    "test_sad = torch.from_numpy(final[\"test_sad\"])\n",
    "test_surprise = torch.from_numpy(final[\"test_surprise\"])\n",
    "test_neutral = torch.from_numpy(final[\"test_neutral\"])\n",
    "train_happy = torch.from_numpy(final[\"train_happy\"])\n",
    "train_sad = torch.from_numpy(final[\"train_sad\"])\n",
    "train_surprise = torch.from_numpy(final[\"train_surprise\"])\n",
    "train_neutral = torch.from_numpy(final[\"train_neutral\"])\n",
    "validation_happy = torch.from_numpy(final[\"validation_happy\"])\n",
    "validation_sad = torch.from_numpy(final[\"validation_sad\"])\n",
    "validation_surprise = torch.from_numpy(final[\"validation_surprise\"])\n",
    "validation_neutral = torch.from_numpy(final[\"validation_neutral\"])\n",
    "\n",
    "# Let us evaluate one of these files just to ensure the conversion went correctly.\n",
    "print(train_happy.shape)\n",
    "print(type(train_happy))"
   ]
  },
  {
   "cell_type": "code",
   "execution_count": 224,
   "id": "8d2971b0-e661-4855-9b6b-ed0e2c7ae462",
   "metadata": {},
   "outputs": [],
   "source": [
    "# Next we will be creating our general X and Y classes\n",
    "\n",
    "# We will combine these using the np.concat command to generate our independent variables\n",
    "test_x = np.concat((test_happy, test_sad, test_suprise, test_neutral))\n",
    "train_x = np.concat((train_happy, train_sad, train_surprise, train_neutral))\n",
    "validation_x = np.concat((validation_happy, validation_sad, validation_suprise, validation_neutral))"
   ]
  },
  {
   "cell_type": "code",
   "execution_count": 225,
   "id": "75f6f244-b924-4bf7-888a-f041693b6be6",
   "metadata": {},
   "outputs": [
    {
     "data": {
      "text/plain": [
       "((128, 48, 48), (15109, 48, 48), (4977, 48, 48))"
      ]
     },
     "execution_count": 225,
     "metadata": {},
     "output_type": "execute_result"
    }
   ],
   "source": [
    "# Here we will verify that the we maintain the 48x48 image shape\n",
    "test_x.shape, train_x.shape, validation_x.shape"
   ]
  },
  {
   "cell_type": "code",
   "execution_count": 226,
   "id": "24a48fbf-fd35-420e-8e8c-71fb1a99a2bd",
   "metadata": {},
   "outputs": [],
   "source": [
    "# We will now perform a similar task to generate our Target Variable output.\n",
    "# It is important that we concat these in the same order as the previous cell\n",
    "test_y = np.concat([\n",
    "    np.full(test_happy.shape[0], 0), \n",
    "    np.full(test_sad.shape[0], 1), \n",
    "    np.full(test_suprise.shape[0], 2), \n",
    "    np.full(test_neutral.shape[0], 3)\n",
    "])\n",
    "\n",
    "train_y = np.concat([\n",
    "    np.full(train_happy.shape[0], 0), \n",
    "    np.full(train_sad.shape[0], 1), \n",
    "    np.full(train_suprise.shape[0], 2), \n",
    "    np.full(train_neutral.shape[0], 3)\n",
    "])\n",
    "\n",
    "validation_y = np.concat([\n",
    "    np.full(validation_happy.shape[0], 0), \n",
    "    np.full(validation_sad.shape[0], 1), \n",
    "    np.full(validation_suprise.shape[0], 2), \n",
    "    np.full(validation_neutral.shape[0], 3)\n",
    "])"
   ]
  },
  {
   "cell_type": "code",
   "execution_count": 227,
   "id": "3a391c18-3faa-4fe0-84eb-51dbb0b2a257",
   "metadata": {},
   "outputs": [
    {
     "data": {
      "text/plain": [
       "((128,), (15109,), (4977,))"
      ]
     },
     "execution_count": 227,
     "metadata": {},
     "output_type": "execute_result"
    }
   ],
   "source": [
    "test_y.shape, train_y.shape, validation_y.shape"
   ]
  },
  {
   "cell_type": "code",
   "execution_count": 228,
   "id": "03111498-69d6-4887-9c78-08cbc98eadac",
   "metadata": {},
   "outputs": [],
   "source": [
    "# In order to utilize these images though we need to introduce a randomization factor.\n",
    "# First we will define a seed.\n",
    "seed = 42\n",
    "\n",
    "# We will import shuffle which will allow us to shuffle the arrays in unison\n",
    "from sklearn.utils import shuffle\n",
    "\n",
    "# We will utilize generate a list of random numbers to utilize different states for each shuffle\n",
    "rng = np.random.default_rng(seed)\n",
    "shuffle_seeds = rng.integers(low=0, high=999, size=3)"
   ]
  },
  {
   "cell_type": "code",
   "execution_count": 229,
   "id": "e7f3ecea-6fb4-4c43-8958-fb7f9dd4136e",
   "metadata": {},
   "outputs": [
    {
     "data": {
      "text/plain": [
       "(np.float64(175.90755208333334),\n",
       " np.int64(0),\n",
       " np.float64(121.55338541666667),\n",
       " np.int64(0),\n",
       " np.float64(100.9296875),\n",
       " np.int64(0))"
      ]
     },
     "execution_count": 229,
     "metadata": {},
     "output_type": "execute_result"
    }
   ],
   "source": [
    "# Lets print some test numbers to evaluate our shuffle\n",
    "train_x[0].mean(), train_y[0], test_x[0].mean(), test_y[0], validation_x[0].mean(), validation_y[0]"
   ]
  },
  {
   "cell_type": "code",
   "execution_count": 230,
   "id": "f820df45-a346-4d08-8cae-951b624e17ad",
   "metadata": {},
   "outputs": [],
   "source": [
    "train_x, train_y = shuffle(train_x, train_y, random_state=shuffle_seeds[0])\n",
    "test_x, test_y = shuffle(test_x, test_y, random_state=shuffle_seeds[1])\n",
    "validation_x, validation_y = shuffle(validation_x, validation_y, random_state=shuffle_seeds[2])"
   ]
  },
  {
   "cell_type": "code",
   "execution_count": 231,
   "id": "0cc7e611-a0a6-4b68-8056-cfff7cedbd4d",
   "metadata": {},
   "outputs": [
    {
     "data": {
      "text/plain": [
       "(np.float64(142.93836805555554),\n",
       " np.int64(0),\n",
       " np.float64(135.86588541666666),\n",
       " np.int64(0),\n",
       " np.float64(117.93229166666667),\n",
       " np.int64(1))"
      ]
     },
     "execution_count": 231,
     "metadata": {},
     "output_type": "execute_result"
    }
   ],
   "source": [
    "# If these numbers have changed, it shows that we have correctly shuffled the images\n",
    "train_x[0].mean(), train_y[0], test_x[0].mean(), test_y[0], validation_x[0].mean(), validation_y[0]"
   ]
  },
  {
   "cell_type": "markdown",
   "id": "e961ce1a-6307-4156-b98c-141cc08c8f2a",
   "metadata": {},
   "source": [
    "# Visualizing the Images\n",
    "\n",
    "We have now established our dataset! Let's take a look at some examples."
   ]
  },
  {
   "cell_type": "code",
   "execution_count": 232,
   "id": "b5bd28fe-b653-48a6-9afd-a6407621999e",
   "metadata": {},
   "outputs": [
    {
     "data": {
      "image/png": "[encoded data removed]",
      "text/plain": [
       "<Figure size 2000x1000 with 10 Axes>"
      ]
     },
     "metadata": {},
     "output_type": "display_data"
    }
   ],
   "source": [
    "# Set the number of images, the layout, and the size of the images\n",
    "num_images = 10\n",
    "fig, axes = plt.subplots(2, 5, figsize=(20, 10))\n",
    "\n",
    "# Here we will add the images into our plot\n",
    "for i, ax in enumerate(axes.flat):\n",
    "    if i < num_images:\n",
    "        ax.imshow(train_x[i], cmap='gray')\n",
    "    ax.axis('off')\n",
    "\n",
    "# Adjust the layout and show the images\n",
    "plt.tight_layout()\n",
    "plt.show()"
   ]
  },
  {
   "cell_type": "code",
   "execution_count": 233,
   "id": "ca05746f-28a7-488a-84d6-3507210765cd",
   "metadata": {},
   "outputs": [
    {
     "name": "stdout",
     "output_type": "stream",
     "text": [
      "0 0 3 3 0\n",
      "1 1 3 1 2\n"
     ]
    }
   ],
   "source": [
    "# We will iterate through the results in a similar fashion\n",
    "for i, ax in enumerate(axes.flat):\n",
    "    # This conditional is to match the orientation of the images that we have above.\n",
    "    if i < num_images and (i + 1) % axes.shape[1] == 0:\n",
    "        print((train_y[i]))\n",
    "    else:\n",
    "        print((train_y[i]), end=\" \")"
   ]
  },
  {
   "cell_type": "code",
   "execution_count": 236,
   "id": "4973e1c9-89b1-44c7-93f2-2a202e8a3b29",
   "metadata": {},
   "outputs": [],
   "source": [
    "# Just for fun, we will take the average of all the images in each individual class.  \n",
    "\n",
    "happy = np.concat((test_happy, train_happy, validation_happy)).mean(axis=0)\n",
    "sad = np.concat((test_sad, train_sad, validation_sad)).mean(axis=0)\n",
    "surprise = np.concat((test_surprise, train_surprise, validation_surprise)).mean(axis=0)\n",
    "neutral = np.concat((test_neutral, train_neutral, validation_neutral)).mean(axis=0)"
   ]
  },
  {
   "cell_type": "code",
   "execution_count": 241,
   "id": "74497051-588d-48a1-a69d-4ba048efe917",
   "metadata": {},
   "outputs": [
    {
     "data": {
      "image/png": "[encoded data removed]",
      "text/plain": [
       "<Figure size 1000x1000 with 4 Axes>"
      ]
     },
     "metadata": {},
     "output_type": "display_data"
    }
   ],
   "source": [
    "# Provide information on the images you are providing\n",
    "num_images = 4\n",
    "fig, axes = plt.subplots(2, 2, figsize=(10, 10))\n",
    "\n",
    "# Here we will add the images into our plot\n",
    "for i, ax in enumerate(axes.flat):\n",
    "    if i < num_images:\n",
    "        ax.imshow((happy, sad, surprise, neutral)[i], cmap='gray')\n",
    "        # This uses the variable that we read from initially when viewing files\n",
    "        ax.set_title(emotions[i].title())\n",
    "    ax.axis('off')"
   ]
  },
  {
   "cell_type": "markdown",
   "id": "01188c82-45d4-4a87-a861-32951d85b1d3",
   "metadata": {},
   "source": [
    "This is a great way to just quickly evaluate that our dataset is correct.  "
   ]
  },
  {
   "cell_type": "markdown",
   "id": "dec73cd7-3b17-4fc7-b67e-bf741a54e0f1",
   "metadata": {},
   "source": [
    "# Evaluate before Machine Learning\n",
    "\n",
    "As stated in the [Google Rules for Machine Learning](https://developers.google.com/machine-learning/guides/rules-of-ml), you shouldn't be afraid to evaluate whether or not Machine Learning is the proper task for the job.  In order to evaluate this, let's first use some simple images loss functions and choose a classification based on the per pixel loss.  \n",
    "\n",
    "The first we will be evaluating is the least squared error function. $$\\lambda(x) = C(t-x)^2 \\text{ where } C = \\frac{1}{2}$$"
   ]
  },
  {
   "cell_type": "markdown",
   "id": "f1fa488a-fee7-45ee-b570-7c9b6d84978f",
   "metadata": {},
   "source": [
    "$$ \\text{MSE} = \\frac{1}{mn} \\sum_{i=1}^{m} \\sum_{j=1}^{n} (X_{ij} - Y_{ij})^2 $$"
   ]
  },
  {
   "cell_type": "markdown",
   "id": "0948680a-4810-45c8-a94d-e3bd1780af85",
   "metadata": {},
   "source": [
    "$$ \\text{MAE} = \\frac{1}{mn} \\sum_{i=1}^{m} \\sum_{j=1}^{n} |X_{ij} - Y_{ij}| $$"
   ]
  },
  {
   "cell_type": "code",
   "execution_count": 291,
   "id": "665d8bef-2f70-4917-b514-1307c10e388c",
   "metadata": {},
   "outputs": [],
   "source": [
    "def least_squared_error(t, x):\n",
    "    return (0.5*(t-x)**2).mean()"
   ]
  },
  {
   "cell_type": "code",
   "execution_count": 292,
   "id": "fc9ebd7e-fb11-4862-bb62-96ee9f08584a",
   "metadata": {},
   "outputs": [
    {
     "data": {
      "text/plain": [
       "array([[117, 177, 189, ...,  16,   9,  17],\n",
       "       [170, 198, 211, ...,  29,  10,  14],\n",
       "       [188, 206, 201, ...,  26,  27,   7],\n",
       "       ...,\n",
       "       [ 14,  98, 170, ...,  80,  69,  75],\n",
       "       [ 19, 101, 165, ...,  73,  78,  71],\n",
       "       [ 23,  75, 161, ...,  81,  72,  74]], dtype=uint8)"
      ]
     },
     "execution_count": 292,
     "metadata": {},
     "output_type": "execute_result"
    }
   ],
   "source": [
    "train_x[0]"
   ]
  },
  {
   "cell_type": "code",
   "execution_count": 293,
   "id": "5a236017-c581-445b-998d-885d8ee4830b",
   "metadata": {},
   "outputs": [],
   "source": [
    "def apply_loss(input_array, function):\n",
    "    scores = {}\n",
    "    scores.update({\"happy\" : function(happy, input_array)})\n",
    "    scores.update({\"sad\" : function(sad, input_array)})\n",
    "    scores.update({\"surprise\" : function(surprise, input_array)})\n",
    "    scores.update({\"neutral\" : function(neutral, input_array)})\n",
    "\n",
    "    return list(scores.keys())[list(scores.values()).index(min(scores.values()))]"
   ]
  },
  {
   "cell_type": "code",
   "execution_count": 295,
   "id": "05ab81a4-76db-43d7-a344-85d3899955e8",
   "metadata": {},
   "outputs": [
    {
     "data": {
      "text/plain": [
       "'surprise'"
      ]
     },
     "execution_count": 295,
     "metadata": {},
     "output_type": "execute_result"
    }
   ],
   "source": [
    "apply_loss(train_x[0], quadratic_loss_function)"
   ]
  },
  {
   "cell_type": "code",
   "execution_count": null,
   "id": "59e2f8b2-d8ad-47f4-a66f-793fdf45630c",
   "metadata": {},
   "outputs": [],
   "source": []
  },
  {
   "cell_type": "markdown",
   "id": "33023971-5cc2-41fc-bbd0-4d0dc2904876",
   "metadata": {},
   "source": [
    "$$ \\text{SSIM}(x,y) = \\frac{(2\\mu_x\\mu_y + c_1)(2\\sigma_{xy} + c_2)}{(\\mu_x^2 + \\mu_y^2 + c_1)(\\sigma_x^2 + \\sigma_y^2 + c_2)} $$"
   ]
  },
  {
   "cell_type": "code",
   "execution_count": 311,
   "id": "6e9dc735-1e17-439a-b465-45ae238f2cd9",
   "metadata": {},
   "outputs": [],
   "source": [
    "# We will continue to add more functions and find which per-pixel loss function performs the best.\n",
    "def mean_absolute_error(t, x):\n",
    "    return abs(t-x).mean()\n",
    "\n",
    "def mean_bias_error(t, x):\n",
    "    return (t-x).mean()\n",
    "\n",
    "def mean_squared_logarithmic(t, x):\n",
    "    return ((np.log1p(t) - np.log1p(x))**2).mean()"
   ]
  },
  {
   "cell_type": "code",
   "execution_count": 312,
   "id": "f4eb1e30-607b-47bc-9c93-1cbdf12e9620",
   "metadata": {},
   "outputs": [
    {
     "name": "stdout",
     "output_type": "stream",
     "text": [
      "surprise\n",
      "sad\n",
      "sad\n"
     ]
    }
   ],
   "source": [
    "print(apply_loss(train_x[0], mean_absolute_error))\n",
    "print(apply_loss(train_x[0], mean_bias_error))\n",
    "print(apply_loss(train_x[0], mean_squared_logarithmic))"
   ]
  },
  {
   "cell_type": "code",
   "execution_count": null,
   "id": "6f2c9f38-43fe-4c13-a8f8-16cf70bda38e",
   "metadata": {},
   "outputs": [],
   "source": []
  },
  {
   "cell_type": "code",
   "execution_count": null,
   "id": "a41ac3cc-aa4a-4ce2-a5a0-fe3babe9bdcc",
   "metadata": {},
   "outputs": [],
   "source": [
    "# Print classification report\n",
    "print(\"Classification Report:\")\n",
    "print(classification_report(y_true, y_pred))\n",
    "\n",
    "# Generate and plot confusion matrix\n",
    "cm = confusion_matrix(y_true, y_pred)\n",
    "plt.figure(figsize=(10, 8))\n",
    "sns.heatmap(cm, annot=True, fmt='d', cmap='Blues')\n",
    "plt.title('Confusion Matrix')\n",
    "plt.xlabel('Predicted')\n",
    "plt.ylabel('True')\n",
    "plt.show()"
   ]
  }
 ],
 "metadata": {
  "kernelspec": {
   "display_name": "Python 3 (ipykernel)",
   "language": "python",
   "name": "python3"
  },
  "language_info": {
   "codemirror_mode": {
    "name": "ipython",
    "version": 3
   },
   "file_extension": ".py",
   "mimetype": "text/x-python",
   "name": "python",
   "nbconvert_exporter": "python",
   "pygments_lexer": "ipython3",
   "version": "3.12.4"
  }
 },
 "nbformat": 4,
 "nbformat_minor": 5
}
